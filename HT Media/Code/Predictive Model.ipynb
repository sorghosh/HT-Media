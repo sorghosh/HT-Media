﻿{
 "cells": [
  {
   "cell_type": "code",
   "execution_count": 1,
   "metadata": {
    "collapsed": false
   },
   "outputs": [
    {
     "name": "stdout",
     "output_type": "stream",
     "text": [
      "Checking whether there is an H2O instance running at http://localhost:54321. connected.\n",
      "Warning: Your H2O cluster version is too old (5 months and 15 days)! Please download and install the latest version from http://h2o.ai/download/\n"
     ]
    },
    {
     "data": {
      "text/html": [
       "<div style=\"overflow:auto\"><table style=\"width:50%\"><tr><td>H2O cluster uptime:</td>\n",
       "<td>4 mins 05 secs</td></tr>\n",
       "<tr><td>H2O cluster version:</td>\n",
       "<td>3.10.4.8</td></tr>\n",
       "<tr><td>H2O cluster version age:</td>\n",
       "<td>5 months and 15 days !!!</td></tr>\n",
       "<tr><td>H2O cluster name:</td>\n",
       "<td>H2O_from_python_sauravghosh_noixta</td></tr>\n",
       "<tr><td>H2O cluster total nodes:</td>\n",
       "<td>1</td></tr>\n",
       "<tr><td>H2O cluster free memory:</td>\n",
       "<td>120.0 Mb</td></tr>\n",
       "<tr><td>H2O cluster total cores:</td>\n",
       "<td>4</td></tr>\n",
       "<tr><td>H2O cluster allowed cores:</td>\n",
       "<td>4</td></tr>\n",
       "<tr><td>H2O cluster status:</td>\n",
       "<td>locked, healthy</td></tr>\n",
       "<tr><td>H2O connection url:</td>\n",
       "<td>http://localhost:54321</td></tr>\n",
       "<tr><td>H2O connection proxy:</td>\n",
       "<td>None</td></tr>\n",
       "<tr><td>H2O internal security:</td>\n",
       "<td>False</td></tr>\n",
       "<tr><td>Python version:</td>\n",
       "<td>2.7.13 final</td></tr></table></div>"
      ],
      "text/plain": [
       "--------------------------  ----------------------------------\n",
       "H2O cluster uptime:         4 mins 05 secs\n",
       "H2O cluster version:        3.10.4.8\n",
       "H2O cluster version age:    5 months and 15 days !!!\n",
       "H2O cluster name:           H2O_from_python_sauravghosh_noixta\n",
       "H2O cluster total nodes:    1\n",
       "H2O cluster free memory:    120.0 Mb\n",
       "H2O cluster total cores:    4\n",
       "H2O cluster allowed cores:  4\n",
       "H2O cluster status:         locked, healthy\n",
       "H2O connection url:         http://localhost:54321\n",
       "H2O connection proxy:\n",
       "H2O internal security:      False\n",
       "Python version:             2.7.13 final\n",
       "--------------------------  ----------------------------------"
      ]
     },
     "metadata": {},
     "output_type": "display_data"
    }
   ],
   "source": [
    "import h2o\n",
    "from h2o.estimators import H2OGradientBoostingEstimator\n",
    "h2o.init()"
   ]
  },
  {
   "cell_type": "code",
   "execution_count": 3,
   "metadata": {
    "collapsed": false
   },
   "outputs": [
    {
     "name": "stdout",
     "output_type": "stream",
     "text": [
      "Parse progress: |█████████████████████████████████████████████████████████| 100%\n"
     ]
    }
   ],
   "source": [
    "dataset = h2o.import_file(r\"C:\\Users\\sauravghosh\\Desktop\\Machine_Learning\\HT Media\\Data\\Modelling_Dataset\\Modelling_DatasetV1.csv\")\n",
    "dataset[\"User_SubFunctional_Area\"] = dataset[\"User_SubFunctional_Area\"].asfactor()\n",
    "dataset[\"Relevant_Degree\"] = dataset[\"Relevant_Degree\"].asfactor()\n",
    "dataset[\"Releveant_Cert\"] = dataset[\"Releveant_Cert\"].asfactor()\n",
    "col_names = dataset.col_names\n",
    "y = \"User_SubFunctional_Area\"\n",
    "X = [i for i in col_names if i != y]\n",
    "train,test,valid = dataset.split_frame(ratios = ([.7,.2]), seed = 1234)"
   ]
  },
  {
   "cell_type": "code",
   "execution_count": 4,
   "metadata": {
    "collapsed": false
   },
   "outputs": [
    {
     "name": "stdout",
     "output_type": "stream",
     "text": [
      "Gradient Boosting Model >>>>>>>>>>>>\n",
      "gbm Model Build progress: |███████████████████████████████████████████████| 100%\n"
     ]
    }
   ],
   "source": [
    "print \"Gradient Boosting Model >>>>>>>>>>>>\"\n",
    "gbm_m1 = H2OGradientBoostingEstimator()\n",
    "gbm_m1.train(x = X , y = \"User_SubFunctional_Area\" , training_frame = train, validation_frame  = test)"
   ]
  },
  {
   "cell_type": "code",
   "execution_count": 14,
   "metadata": {
    "collapsed": false
   },
   "outputs": [
    {
     "data": {
      "image/png": "[encoded data removed]",
      "text/plain": [
       "<matplotlib.figure.Figure at 0x162163c8>"
      ]
     },
     "metadata": {},
     "output_type": "display_data"
    }
   ],
   "source": [
    "#Model Convergance\n",
    "\n",
    "import matplotlib.pyplot as plt\n",
    "%matplotlib inline\n",
    "plt.figure(figsize = (10,5))\n",
    "gbm_m1.plot()\n",
    "plt.show()\n"
   ]
  },
  {
   "cell_type": "code",
   "execution_count": 5,
   "metadata": {
    "collapsed": false
   },
   "outputs": [
    {
     "name": "stdout",
     "output_type": "stream",
     "text": [
      "training dataset performance  Confusion Matrix: vertical: actual; across: predicted\n",
      "\n"
     ]
    },
    {
     "data": {
      "text/html": [
       "<div style=\"overflow:auto\"><table style=\"width:50%\"><tr><td><b>Embedded, VLSI</b></td>\n",
       "<td><b>Hardware / Telecom Equipment Design</b></td>\n",
       "<td><b>Network / System Administration</b></td>\n",
       "<td><b>Telecom Network Design / Management</b></td>\n",
       "<td><b>Error</b></td>\n",
       "<td><b>Rate</b></td></tr>\n",
       "<tr><td>571.0</td>\n",
       "<td>3.0</td>\n",
       "<td>10.0</td>\n",
       "<td>3.0</td>\n",
       "<td>0.0272572</td>\n",
       "<td>16 / 587</td></tr>\n",
       "<tr><td>28.0</td>\n",
       "<td>103.0</td>\n",
       "<td>43.0</td>\n",
       "<td>14.0</td>\n",
       "<td>0.4521277</td>\n",
       "<td>85 / 188</td></tr>\n",
       "<tr><td>44.0</td>\n",
       "<td>13.0</td>\n",
       "<td>364.0</td>\n",
       "<td>12.0</td>\n",
       "<td>0.1593533</td>\n",
       "<td>69 / 433</td></tr>\n",
       "<tr><td>13.0</td>\n",
       "<td>4.0</td>\n",
       "<td>17.0</td>\n",
       "<td>77.0</td>\n",
       "<td>0.3063063</td>\n",
       "<td>34 / 111</td></tr>\n",
       "<tr><td>656.0</td>\n",
       "<td>123.0</td>\n",
       "<td>434.0</td>\n",
       "<td>106.0</td>\n",
       "<td>0.1546626</td>\n",
       "<td>204 / 1,319</td></tr></table></div>"
      ],
      "text/plain": [
       "Embedded, VLSI    Hardware / Telecom Equipment Design    Network / System Administration    Telecom Network Design / Management    Error      Rate\n",
       "----------------  -------------------------------------  ---------------------------------  -------------------------------------  ---------  -----------\n",
       "571               3                                      10                                 3                                      0.0272572  16 / 587\n",
       "28                103                                    43                                 14                                     0.452128   85 / 188\n",
       "44                13                                     364                                12                                     0.159353   69 / 433\n",
       "13                4                                      17                                 77                                     0.306306   34 / 111\n",
       "656               123                                    434                                106                                    0.154663   204 / 1,319"
      ]
     },
     "metadata": {},
     "output_type": "display_data"
    },
    {
     "name": "stdout",
     "output_type": "stream",
     "text": [
      "\n",
      "valid dataset perfomance  Confusion Matrix: vertical: actual; across: predicted\n",
      "\n"
     ]
    },
    {
     "data": {
      "text/html": [
       "<div style=\"overflow:auto\"><table style=\"width:50%\"><tr><td><b>Embedded, VLSI</b></td>\n",
       "<td><b>Hardware / Telecom Equipment Design</b></td>\n",
       "<td><b>Network / System Administration</b></td>\n",
       "<td><b>Telecom Network Design / Management</b></td>\n",
       "<td><b>Error</b></td>\n",
       "<td><b>Rate</b></td></tr>\n",
       "<tr><td>154.0</td>\n",
       "<td>1.0</td>\n",
       "<td>6.0</td>\n",
       "<td>6.0</td>\n",
       "<td>0.0778443</td>\n",
       "<td>13 / 167</td></tr>\n",
       "<tr><td>12.0</td>\n",
       "<td>17.0</td>\n",
       "<td>9.0</td>\n",
       "<td>1.0</td>\n",
       "<td>0.5641026</td>\n",
       "<td>22 / 39</td></tr>\n",
       "<tr><td>22.0</td>\n",
       "<td>7.0</td>\n",
       "<td>109.0</td>\n",
       "<td>8.0</td>\n",
       "<td>0.2534247</td>\n",
       "<td>37 / 146</td></tr>\n",
       "<tr><td>3.0</td>\n",
       "<td>4.0</td>\n",
       "<td>5.0</td>\n",
       "<td>8.0</td>\n",
       "<td>0.6</td>\n",
       "<td>12 / 20</td></tr>\n",
       "<tr><td>191.0</td>\n",
       "<td>29.0</td>\n",
       "<td>129.0</td>\n",
       "<td>23.0</td>\n",
       "<td>0.2258065</td>\n",
       "<td>84 / 372</td></tr></table></div>"
      ],
      "text/plain": [
       "Embedded, VLSI    Hardware / Telecom Equipment Design    Network / System Administration    Telecom Network Design / Management    Error      Rate\n",
       "----------------  -------------------------------------  ---------------------------------  -------------------------------------  ---------  --------\n",
       "154               1                                      6                                  6                                      0.0778443  13 / 167\n",
       "12                17                                     9                                  1                                      0.564103   22 / 39\n",
       "22                7                                      109                                8                                      0.253425   37 / 146\n",
       "3                 4                                      5                                  8                                      0.6        12 / 20\n",
       "191               29                                     129                                23                                     0.225806   84 / 372"
      ]
     },
     "metadata": {},
     "output_type": "display_data"
    },
    {
     "name": "stdout",
     "output_type": "stream",
     "text": [
      "\n",
      "test dataset performance  Confusion Matrix: vertical: actual; across: predicted\n",
      "\n"
     ]
    },
    {
     "data": {
      "text/html": [
       "<div style=\"overflow:auto\"><table style=\"width:50%\"><tr><td><b>Embedded, VLSI</b></td>\n",
       "<td><b>Hardware / Telecom Equipment Design</b></td>\n",
       "<td><b>Network / System Administration</b></td>\n",
       "<td><b>Telecom Network Design / Management</b></td>\n",
       "<td><b>Error</b></td>\n",
       "<td><b>Rate</b></td></tr>\n",
       "<tr><td>78.0</td>\n",
       "<td>4.0</td>\n",
       "<td>6.0</td>\n",
       "<td>2.0</td>\n",
       "<td>0.1333333</td>\n",
       "<td>12 / 90</td></tr>\n",
       "<tr><td>4.0</td>\n",
       "<td>5.0</td>\n",
       "<td>6.0</td>\n",
       "<td>1.0</td>\n",
       "<td>0.6875</td>\n",
       "<td>11 / 16</td></tr>\n",
       "<tr><td>11.0</td>\n",
       "<td>4.0</td>\n",
       "<td>50.0</td>\n",
       "<td>2.0</td>\n",
       "<td>0.2537313</td>\n",
       "<td>17 / 67</td></tr>\n",
       "<tr><td>1.0</td>\n",
       "<td>2.0</td>\n",
       "<td>4.0</td>\n",
       "<td>11.0</td>\n",
       "<td>0.3888889</td>\n",
       "<td>7 / 18</td></tr>\n",
       "<tr><td>94.0</td>\n",
       "<td>15.0</td>\n",
       "<td>66.0</td>\n",
       "<td>16.0</td>\n",
       "<td>0.2460733</td>\n",
       "<td>47 / 191</td></tr></table></div>"
      ],
      "text/plain": [
       "Embedded, VLSI    Hardware / Telecom Equipment Design    Network / System Administration    Telecom Network Design / Management    Error     Rate\n",
       "----------------  -------------------------------------  ---------------------------------  -------------------------------------  --------  --------\n",
       "78                4                                      6                                  2                                      0.133333  12 / 90\n",
       "4                 5                                      6                                  1                                      0.6875    11 / 16\n",
       "11                4                                      50                                 2                                      0.253731  17 / 67\n",
       "1                 2                                      4                                  11                                     0.388889  7 / 18\n",
       "94                15                                     66                                 16                                     0.246073  47 / 191"
      ]
     },
     "metadata": {},
     "output_type": "display_data"
    },
    {
     "name": "stdout",
     "output_type": "stream",
     "text": [
      "\n"
     ]
    }
   ],
   "source": [
    "print \"training dataset performance \" ,gbm_m1.model_performance(train= True).confusion_matrix()\n",
    "print \"valid dataset perfomance \" ,gbm_m1.model_performance(test).confusion_matrix()\n",
    "print \"test dataset performance \" ,gbm_m1.model_performance(valid).confusion_matrix()\n"
   ]
  },
  {
   "cell_type": "code",
   "execution_count": 12,
   "metadata": {
    "collapsed": false
   },
   "outputs": [
    {
     "data": {
      "text/html": [
       "<div>\n",
       "<style>\n",
       "    .dataframe thead tr:only-child th {\n",
       "        text-align: right;\n",
       "    }\n",
       "\n",
       "    .dataframe thead th {\n",
       "        text-align: left;\n",
       "    }\n",
       "\n",
       "    .dataframe tbody tr th {\n",
       "        vertical-align: top;\n",
       "    }\n",
       "</style>\n",
       "<table border=\"1\" class=\"dataframe\">\n",
       "  <thead>\n",
       "    <tr style=\"text-align: right;\">\n",
       "      <th></th>\n",
       "      <th>Feature_Name</th>\n",
       "      <th>Relative_Importance</th>\n",
       "      <th>Scaled_Importance</th>\n",
       "      <th>Percentage</th>\n",
       "    </tr>\n",
       "  </thead>\n",
       "  <tbody>\n",
       "    <tr>\n",
       "      <th>0</th>\n",
       "      <td>Relevant_Match_Score</td>\n",
       "      <td>1735.747681</td>\n",
       "      <td>1.000000</td>\n",
       "      <td>0.672466</td>\n",
       "    </tr>\n",
       "    <tr>\n",
       "      <th>1</th>\n",
       "      <td>Sector</td>\n",
       "      <td>375.388580</td>\n",
       "      <td>0.216269</td>\n",
       "      <td>0.145434</td>\n",
       "    </tr>\n",
       "    <tr>\n",
       "      <th>2</th>\n",
       "      <td>Industry</td>\n",
       "      <td>330.373291</td>\n",
       "      <td>0.190335</td>\n",
       "      <td>0.127994</td>\n",
       "    </tr>\n",
       "    <tr>\n",
       "      <th>3</th>\n",
       "      <td>Releveant_Cert</td>\n",
       "      <td>84.552078</td>\n",
       "      <td>0.048712</td>\n",
       "      <td>0.032757</td>\n",
       "    </tr>\n",
       "    <tr>\n",
       "      <th>4</th>\n",
       "      <td>Relevant_Degree</td>\n",
       "      <td>42.828068</td>\n",
       "      <td>0.024674</td>\n",
       "      <td>0.016593</td>\n",
       "    </tr>\n",
       "    <tr>\n",
       "      <th>5</th>\n",
       "      <td>User_Experience (Years)</td>\n",
       "      <td>12.279763</td>\n",
       "      <td>0.007075</td>\n",
       "      <td>0.004757</td>\n",
       "    </tr>\n",
       "  </tbody>\n",
       "</table>\n",
       "</div>"
      ],
      "text/plain": [
       "              Feature_Name  Relative_Importance  Scaled_Importance  Percentage\n",
       "0     Relevant_Match_Score          1735.747681           1.000000    0.672466\n",
       "1                   Sector           375.388580           0.216269    0.145434\n",
       "2                 Industry           330.373291           0.190335    0.127994\n",
       "3           Releveant_Cert            84.552078           0.048712    0.032757\n",
       "4          Relevant_Degree            42.828068           0.024674    0.016593\n",
       "5  User_Experience (Years)            12.279763           0.007075    0.004757"
      ]
     },
     "execution_count": 12,
     "metadata": {},
     "output_type": "execute_result"
    }
   ],
   "source": [
    "#variable importance\n",
    "import pandas as pd\n",
    "cols = [\"Feature_Name\",\"Relative_Importance\",\"Scaled_Importance\",\"Percentage\"]\n",
    "feature_importance = pd.DataFrame(gbm_m1.varimp())\n",
    "feature_importance.columns = cols\n",
    "feature_importance"
   ]
  },
  {
   "cell_type": "code",
   "execution_count": null,
   "metadata": {
    "collapsed": true
   },
   "outputs": [],
   "source": []
  }
 ],
 "metadata": {
  "kernelspec": {
   "display_name": "Python 2",
   "language": "python",
   "name": "python2"
  },
  "language_info": {
   "codemirror_mode": {
    "name": "ipython",
    "version": 2
   },
   "file_extension": ".py",
   "mimetype": "text/x-python",
   "name": "python",
   "nbconvert_exporter": "python",
   "pygments_lexer": "ipython2",
   "version": "2.7.13"
  }
 },
 "nbformat": 4,
 "nbformat_minor": 0
}
